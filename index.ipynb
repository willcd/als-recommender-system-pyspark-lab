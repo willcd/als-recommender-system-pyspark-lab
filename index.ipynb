{
 "cells": [
  {
   "cell_type": "markdown",
   "metadata": {},
   "source": [
    "# Building a Recommendation System in PySpark - Lab\n",
    "\n",
    "## Introduction\n",
    "\n",
    "In this lab, we will implement a movie recommendation system using ALS in Spark programming environment. Spark's machine learning library `ml` comes packaged with a very efficient implementation of the ALS algorithm that we looked at in the previous lesson. The lab will require you to put into practice your Spark programming skills for creating and manipulating PySpark DataFrames. We will go through a step-by-step process into developing a movie recommendation system using ALS and PySpark using the `MovieLens` dataset that we used in a previous lab.\n",
    "\n",
    "Note: You are advised to refer to [PySpark documentation](http://spark.apache.org/docs/2.2.0/api/python/index.html) heavily for completing this lab as it will introduce a few new methods. \n",
    "\n",
    "\n",
    "## Objectives\n",
    "\n",
    "In this lab you will: \n",
    "\n",
    "- Use Spark to train and cross-validate an ALS model \n",
    "- Introduce a new user with rating to a rating matrix and make recommendations for them \n",
    "- Create a function that will return the top n recommendations for a user "
   ]
  },
  {
   "cell_type": "markdown",
   "metadata": {},
   "source": [
    "## Building a Recommendation System\n",
    "\n",
    "We have seen how recommendation systems have played an integral part in the success of Amazon (books, items), Pandora/Spotify (music), Google (news, search), YouTube (videos) etc.  For Amazon, these systems bring more than 30% of their total revenue. For Netflix, 75% of movies that people watch are based on some sort of recommendation.\n",
    "\n",
    "> The goal of recommendation systems is to find what is likely to be of interest to the user. This enables organizations to offer a high level of personalization and customer tailored services.\n",
    "\n",
    "\n",
    "For online video content services like Netflix and Hulu, the need to build robust movie recommendation systems is extremely important. An example of a recommendation system is such as this:\n",
    "\n",
    "1.    User A watches Game of Thrones and Breaking Bad \n",
    "2.    User B performs a search query for Game of Thrones \n",
    "3.    The system suggests Breaking Bad to user B from data collected about user A \n",
    "\n",
    "\n",
    "This lab will guide you through a step-by-step process into developing such a movie recommendation system. We will use the `MovieLens` dataset to build a movie recommendation system using the collaborative filtering technique with Spark's Alternating Least Squares implementation. After building that recommendation system, we will go through the process of adding a new user to the dataset with some new ratings and obtaining new recommendations for that user.\n",
    "\n",
    "### Importing the Data\n",
    "\n",
    "* Initialize a `SparkSession` object\n",
    "* Import the dataset found at `'./data/ratings.csv'` into a PySpark DataFrame"
   ]
  },
  {
   "cell_type": "code",
   "execution_count": 2,
   "metadata": {},
   "outputs": [],
   "source": [
    "# import necessary libraries\n",
    "from pyspark.sql import SparkSession\n",
    "\n",
    "# instantiate SparkSession object\n",
    "# spark = SparkSession.builder.master(\"local\").getOrCreate()\n",
    "\n",
    "spark = SparkSession.builder.appName('ALSExample')\\\n",
    "    .config('spark.driver.host', 'localhost')\\\n",
    "    .getOrCreate()"
   ]
  },
  {
   "cell_type": "code",
   "execution_count": 3,
   "metadata": {},
   "outputs": [],
   "source": [
    "# read in the dataset into pyspark DataFrame\n",
    "movie_ratings = spark.read.csv('./data/ratings.csv', header='true', inferSchema='true')"
   ]
  },
  {
   "cell_type": "markdown",
   "metadata": {},
   "source": [
    "Check the data types of each of the columns to ensure that they are a type that makes sense given the column."
   ]
  },
  {
   "cell_type": "code",
   "execution_count": 13,
   "metadata": {},
   "outputs": [
    {
     "data": {
      "text/plain": [
       "[('userId', 'int'),\n",
       " ('movieId', 'int'),\n",
       " ('rating', 'double'),\n",
       " ('timestamp', 'int')]"
      ]
     },
     "execution_count": 13,
     "metadata": {},
     "output_type": "execute_result"
    }
   ],
   "source": [
    "movie_ratings.dtypes"
   ]
  },
  {
   "cell_type": "markdown",
   "metadata": {},
   "source": [
    "We aren't going to need the timestamp, so we can go ahead and remove that column."
   ]
  },
  {
   "cell_type": "code",
   "execution_count": 14,
   "metadata": {},
   "outputs": [],
   "source": [
    "movie_ratings = movie_ratings.drop('timestamp')"
   ]
  },
  {
   "cell_type": "markdown",
   "metadata": {},
   "source": [
    "### Fitting the Alternating Least Squares Model"
   ]
  },
  {
   "cell_type": "markdown",
   "metadata": {},
   "source": [
    "Because this dataset is already preprocessed for us, we can go ahead and fit the Alternating Least Squares model.\n",
    "\n",
    "* Import `ALS` from `pyspark.ml.recommendation` module \n",
    "* Use the `.randomSplit()` method on the pyspark DataFrame to separate the dataset into training and test sets\n",
    "* Fit the Alternating Least Squares Model to the training dataset. Make sure to set the `userCol`, `itemCol`, and `ratingCol` to the appropriate columns given this dataset. Then fit the data to the training set and assign it to a variable model  "
   ]
  },
  {
   "cell_type": "code",
   "execution_count": 25,
   "metadata": {},
   "outputs": [],
   "source": [
    "from pyspark.ml.recommendation import ALS\n",
    "\n",
    "# split into training and testing sets\n",
    "train, test = movie_ratings.randomSplit([.8,.2])\n",
    "\n",
    "# Build the recommendation model using ALS on the training data\n",
    "# Note we set cold start strategy to 'drop' to ensure we don't get NaN evaluation metrics\n",
    "als = ALS(userCol='userId', itemCol='movieId', ratingCol='rating', coldStartStrategy='drop')\n",
    "\n",
    "# fit the ALS model to the training set\n",
    "model = als.fit(train)"
   ]
  },
  {
   "cell_type": "markdown",
   "metadata": {},
   "source": [
    "Now you've fit the model, and it's time to evaluate it to determine just how well it performed.\n",
    "\n",
    "* Import `RegressionEvalutor` from `pyspark.ml.evaluation` \n",
    "* Generate predictions with your model for the test set by using the `.transform()` method on your ALS model \n",
    "* Evaluate your model and print out the RMSE from your test set "
   ]
  },
  {
   "cell_type": "code",
   "execution_count": 26,
   "metadata": {},
   "outputs": [
    {
     "name": "stdout",
     "output_type": "stream",
     "text": [
      "Root-mean-square error: 0.8889385749752905\n"
     ]
    }
   ],
   "source": [
    "# importing appropriate library\n",
    "from pyspark.ml.evaluation import RegressionEvaluator\n",
    "\n",
    "# Evaluate the model by computing the RMSE on the test data\n",
    "predictions = model.transform(test)\n",
    "evaluator = RegressionEvaluator(metricName='rmse', labelCol='rating', predictionCol='prediction')\n",
    "rmse = evaluator.evaluate(predictions)\n",
    "\n",
    "print(f\"Root-mean-square error: {rmse}\")"
   ]
  },
  {
   "cell_type": "markdown",
   "metadata": {},
   "source": [
    "### Cross-validation to Find the Optimal Model\n",
    "\n",
    "Let's now find the optimal values for the parameters of the ALS model. Use the built-in `CrossValidator` in PySpark with a suitable param grid and determine the optimal model. Try with the parameters:\n",
    "\n",
    "* regularization = [0.01, 0.001, 0.1]\n",
    "* rank = [4, 10, 50]\n"
   ]
  },
  {
   "cell_type": "code",
   "execution_count": 27,
   "metadata": {},
   "outputs": [
    {
     "data": {
      "text/plain": [
       "4"
      ]
     },
     "execution_count": 27,
     "metadata": {},
     "output_type": "execute_result"
    }
   ],
   "source": [
    "from pyspark.ml.tuning import CrossValidator, ParamGridBuilder\n",
    "\n",
    "# initialize the ALS model\n",
    "als = ALS(userCol='userId', itemCol='movieId', ratingCol='rating', coldStartStrategy='drop')\n",
    "\n",
    "# create the parameter grid              \n",
    "grid_als = ParamGridBuilder().addGrid(als.regParam, [0.01, 0.001, 0.1])\\\n",
    "    .addGrid(als.rank, [4,10,50]).build()\n",
    "\n",
    "# instantiating crossvalidator estimator\n",
    "cv = CrossValidator(estimator=als, estimatorParamMaps=grid_als, evaluator=evaluator, parallelism=4)\n",
    "best_model = cv.fit(movie_ratings)    \n",
    "\n",
    "# We see the best model has a rank of 50, so we will use that in our future models with this dataset\n",
    "best_model.bestModel.rank"
   ]
  },
  {
   "cell_type": "code",
   "execution_count": 54,
   "metadata": {},
   "outputs": [
    {
     "data": {
      "text/plain": [
       "[Param(parent='ALS_28a0c77db571', name='blockSize', doc='block size for stacking input data in matrices. Data is stacked within partitions. If block size is more than remaining data in a partition then it is adjusted to the size of this data.'),\n",
       " Param(parent='ALS_28a0c77db571', name='coldStartStrategy', doc=\"strategy for dealing with unknown or new users/items at prediction time. This may be useful in cross-validation or production scenarios, for handling user/item ids the model has not seen in the training data. Supported values: 'nan', 'drop'.\"),\n",
       " Param(parent='ALS_28a0c77db571', name='itemCol', doc='column name for item ids. Ids must be within the integer value range.'),\n",
       " Param(parent='ALS_28a0c77db571', name='predictionCol', doc='prediction column name.'),\n",
       " Param(parent='ALS_28a0c77db571', name='userCol', doc='column name for user ids. Ids must be within the integer value range.')]"
      ]
     },
     "execution_count": 54,
     "metadata": {},
     "output_type": "execute_result"
    }
   ],
   "source": [
    "best_model.bestModel.params"
   ]
  },
  {
   "cell_type": "markdown",
   "metadata": {},
   "source": [
    "### Incorporating the names of the movies\n",
    "\n",
    "When we make recommendations, it would be ideal if we could have the actual name of the movie used rather than just an ID. There is another file called `'./data/movies.csv'` that contains all of the names of the movies matched up to the `movie_id` that we have in the ratings dataset.\n",
    "\n",
    "* Import the data into a Spark DataFrame \n",
    "* Look at the first 5 rows"
   ]
  },
  {
   "cell_type": "code",
   "execution_count": 29,
   "metadata": {},
   "outputs": [
    {
     "data": {
      "text/plain": [
       "[Row(movieId=1, title='Toy Story (1995)', genres='Adventure|Animation|Children|Comedy|Fantasy'),\n",
       " Row(movieId=2, title='Jumanji (1995)', genres='Adventure|Children|Fantasy'),\n",
       " Row(movieId=3, title='Grumpier Old Men (1995)', genres='Comedy|Romance'),\n",
       " Row(movieId=4, title='Waiting to Exhale (1995)', genres='Comedy|Drama|Romance'),\n",
       " Row(movieId=5, title='Father of the Bride Part II (1995)', genres='Comedy')]"
      ]
     },
     "execution_count": 29,
     "metadata": {},
     "output_type": "execute_result"
    }
   ],
   "source": [
    "movie_titles = spark.read.csv('./data/movies.csv', header='true', inferSchema='true')\n",
    "\n",
    "movie_titles.head(5)"
   ]
  },
  {
   "cell_type": "markdown",
   "metadata": {},
   "source": [
    "We will eventually be matching up the movie ids with the movie titles. In the cell below, create a function `name_retriever()` that takes in a `movie_id` and returns a string that represents the movie title. \n",
    "\n",
    "> Hint: It's possible to do this operation in one line with the `df.where()` or the `df.filter()` methods "
   ]
  },
  {
   "cell_type": "code",
   "execution_count": 43,
   "metadata": {},
   "outputs": [],
   "source": [
    "def name_retriever(movie_id, movie_title_df):\n",
    "    return movie_title_df.filter(movie_title_df.movieId == movie_id).take(1)[0]['title']"
   ]
  },
  {
   "cell_type": "code",
   "execution_count": 44,
   "metadata": {},
   "outputs": [
    {
     "name": "stdout",
     "output_type": "stream",
     "text": [
      "Winnie the Pooh and the Blustery Day (1968)\n"
     ]
    }
   ],
   "source": [
    "print(name_retriever(1023, movie_titles))"
   ]
  },
  {
   "cell_type": "markdown",
   "metadata": {},
   "source": [
    "## Getting Recommendations\n",
    "\n",
    "Now it's time to actually get some recommendations! The ALS model has built-in methods called `.recommendForUserSubset()` and `.recommendForAllUsers()`. We'll start off with using a subset of users. "
   ]
  },
  {
   "cell_type": "code",
   "execution_count": 45,
   "metadata": {},
   "outputs": [],
   "source": [
    "users = movie_ratings.select(als.getUserCol()).distinct().limit(1)\n",
    "userSubsetRecs = model.recommendForUserSubset(users, 10)\n",
    "recs = userSubsetRecs.take(1)"
   ]
  },
  {
   "cell_type": "markdown",
   "metadata": {},
   "source": [
    "We can now see we have a list of rows with recommended items. Now try and get the name of the top recommended movie by way of the function you just created, using number one item for this user."
   ]
  },
  {
   "cell_type": "code",
   "execution_count": 48,
   "metadata": {},
   "outputs": [
    {
     "data": {
      "text/plain": [
       "'Saving Face (2004)'"
      ]
     },
     "execution_count": 48,
     "metadata": {},
     "output_type": "execute_result"
    }
   ],
   "source": [
    "# use indexing to obtain the movie id of top predicted rated item\n",
    "first_recommendation = recs[0]['recommendations'][0][0]\n",
    "\n",
    "# use the name retriever function to get the values\n",
    "name_retriever(first_recommendation,movie_titles)"
   ]
  },
  {
   "cell_type": "markdown",
   "metadata": {},
   "source": [
    "Of course, you can also make recommendations for everyone, although this will take longer. In the next line, we are creating an RDD with the top 5 recommendations for every user and then selecting one user to find out his predictions:"
   ]
  },
  {
   "cell_type": "code",
   "execution_count": 49,
   "metadata": {},
   "outputs": [
    {
     "data": {
      "text/plain": [
       "[Row(userId=3, recommendations=[Row(movieId=3837, rating=5.829920291900635), Row(movieId=70946, rating=5.014169692993164), Row(movieId=4821, rating=4.884145736694336), Row(movieId=6835, rating=4.878249168395996), Row(movieId=5181, rating=4.8242411613464355)])]"
      ]
     },
     "execution_count": 49,
     "metadata": {},
     "output_type": "execute_result"
    }
   ],
   "source": [
    "recommendations = model.recommendForAllUsers(5)\n",
    "recommendations.where(recommendations.userId == 3).collect()"
   ]
  },
  {
   "cell_type": "markdown",
   "metadata": {},
   "source": [
    "### Getting Predictions for a New User\n",
    "\n",
    "Now, it's time to put together all that you've learned in this section to create a function that will take in a new user and some movies they've rated and then return $n$ number of highest recommended movies. This function will have multiple different steps to it:\n",
    "\n",
    "* Adding the new ratings into the DataFrame (hint: look into using the `.union()` method) \n",
    "* Fitting the ALS model  \n",
    "* Make recommendations for the user of choice \n",
    "* Print out the names of the top $n$ recommendations in a reader-friendly manner \n",
    "\n",
    "The function should take in the parameters: \n",
    "\n",
    "* `user_id` : int \n",
    "* `new_ratings` : list of tuples in the format (user_id, item_id, rating)\n",
    "* `rating_df` : spark DF containing ratings\n",
    "* `movie_title_df` : spark DF containing movie titles\n",
    "* `num_recs` : int"
   ]
  },
  {
   "cell_type": "markdown",
   "metadata": {},
   "source": [
    "Rate new movies\n",
    "\n",
    "```python\n",
    "[Row(movieId=3253, title='Wayne's World (1992)', genres='Comedy'),\n",
    " Row(movieId=2459, title='Texas Chainsaw Massacre, The (1974)', genres='Horror'),\n",
    " Row(movieId=2513, title='Pet Sematary (1989)', genres='Horror'),\n",
    " Row(movieId=6502, title='28 Days Later (2002)', genres='Action|Horror|Sci-Fi'),\n",
    " Row(movieId=1091, title='Weekend at Bernie's (1989)', genres='Comedy'),\n",
    "Row(movieId=441, title='Dazed and Confused (1993)', genres='Comedy'),\n",
    "Row(movieId=370, title='Naked Gun 33 1/3: The Final Insult (1994)', genres='Action|Comedy')]\n",
    "\n",
    "```"
   ]
  },
  {
   "cell_type": "code",
   "execution_count": 57,
   "metadata": {},
   "outputs": [],
   "source": [
    "def new_user_recs(user_id, new_ratings, rating_df, movie_title_df, num_recs):\n",
    "    # turn the new_recommendations list into a spark DataFrame\n",
    "    new_ratings_df = spark.createDataFrame(new_ratings, rating_df.columns)\n",
    "    \n",
    "    # combine the new ratings df with the rating_df\n",
    "    combined_df = rating_df.union(new_ratings_df)\n",
    "    \n",
    "    # create an ALS model and fit it\n",
    "    als = ALS(maxIter=10,rank=4, regParam=0.01, userCol=\"userId\", itemCol=\"movieId\", ratingCol=\"rating\",\n",
    "          coldStartStrategy=\"drop\")\n",
    "    model = als.fit(combined_df)\n",
    "    \n",
    "    # make recommendations for all users using the recommendForAllUsers method\n",
    "    recs = model.recommendForAllUsers(num_recs)\n",
    "    \n",
    "    # get recommendations specifically for the new user that has been added to the DataFrame\n",
    "    user_recs = recs.where(recs.userId == user_id).take(1)\n",
    "    \n",
    "    for ranking, (movie_id, score) in enumerate(user_recs[0].recommendations):\n",
    "        movie_name = name_retriever(movie_id, movie_title_df)\n",
    "        print(f\"Rec. {ranking+1}: {movie_name} | score: {score}\")"
   ]
  },
  {
   "cell_type": "code",
   "execution_count": 59,
   "metadata": {
    "scrolled": false
   },
   "outputs": [
    {
     "name": "stdout",
     "output_type": "stream",
     "text": [
      "Rec. 1: The Handmaiden (2016) | score: 13.66268253326416\n",
      "Rec. 2: Melancholia (2011) | score: 13.130224227905273\n",
      "Rec. 3: Dead Alive (Braindead) (1992) | score: 11.318011283874512\n",
      "Rec. 4: Mr. Right (2016) | score: 10.851715087890625\n",
      "Rec. 5: Dangerous Beauty (1998) | score: 10.361017227172852\n",
      "Rec. 6: Bug (2007) | score: 10.335175514221191\n",
      "Rec. 7: UHF (1989) | score: 10.291227340698242\n",
      "Rec. 8: Fast Food Nation (2006) | score: 10.209535598754883\n",
      "Rec. 9: Open Water (2003) | score: 10.124434471130371\n",
      "Rec. 10: Pirate Radio (2009) | score: 9.982457160949707\n"
     ]
    }
   ],
   "source": [
    "# try out your function with the movies listed above\n",
    "\n",
    "user_id = 666\n",
    "\n",
    "user_ratings_1 = [(user_id,3253,5),\n",
    "                  (user_id,2459,5),\n",
    "                  (user_id,2513,4),\n",
    "                  (user_id,6502,5),\n",
    "                  (user_id,1091,5),\n",
    "                  (user_id,441,4)]\n",
    "\n",
    "new_user_recs(user_id,\n",
    "             new_ratings=user_ratings_1,\n",
    "             rating_df=movie_ratings,\n",
    "             movie_title_df=movie_titles,\n",
    "             num_recs = 10)"
   ]
  },
  {
   "cell_type": "markdown",
   "metadata": {},
   "source": [
    "So here we have it! Our recommendation system is generating recommendations for the top 10 movies. \n",
    "\n",
    "\n",
    "\n",
    "\n",
    "## Level up (Optional)\n",
    "\n",
    "\n",
    "* Create a user interface to allow users to easily choose items and get recommendations \n",
    "\n",
    "* Use IMDB links to scrape user reviews from IMDB and using basic NLP techniques, create extra embeddings for ALS model  \n",
    "\n",
    "* Create a hybrid recommender system using features like genre \n",
    "\n",
    "## Summary\n",
    "\n",
    "In this lab, you built a model using Spark, performed some parameter selection, and updated the model every time new user preferences came in. You looked at how Spark's ALS implementation can be used to build a scalable and efficient recommendation system. You also saw that such systems can become computationally expensive and using them with an online system could be a problem with traditional computational platforms. Spark's distributed computing architecture provides a great solution to deploy such recommendation systems for real-world applications (think Amazon, Spotify)."
   ]
  }
 ],
 "metadata": {
  "kernelspec": {
   "display_name": "Python 3",
   "language": "python",
   "name": "python3"
  },
  "language_info": {
   "codemirror_mode": {
    "name": "ipython",
    "version": 3
   },
   "file_extension": ".py",
   "mimetype": "text/x-python",
   "name": "python",
   "nbconvert_exporter": "python",
   "pygments_lexer": "ipython3",
   "version": "3.8.5"
  }
 },
 "nbformat": 4,
 "nbformat_minor": 2
}
